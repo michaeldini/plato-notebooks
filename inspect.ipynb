{
 "cells": [
  {
   "cell_type": "markdown",
   "id": "a5fead52",
   "metadata": {},
   "source": [
    "# Load Plato dialogues to check for errors\n",
    "Use this notebook to verify that the Plato dialogues are parsed correctly."
   ]
  },
  {
   "cell_type": "code",
   "execution_count": 1,
   "id": "d87247d6",
   "metadata": {},
   "outputs": [],
   "source": [
    "from utils import load_plato\n"
   ]
  },
  {
   "cell_type": "code",
   "execution_count": 2,
   "id": "6bf819b3",
   "metadata": {},
   "outputs": [
    {
     "name": "stdout",
     "output_type": "stream",
     "text": [
      "The hour of departure has arrived, and we go our ways—I to die, and you\n",
      "to live. Which is better God only knows.\n"
     ]
    }
   ],
   "source": [
    "print(load_plato(\"Apology\")[-1])\n"
   ]
  },
  {
   "cell_type": "code",
   "execution_count": 3,
   "id": "55fa9816",
   "metadata": {},
   "outputs": [
    {
     "name": "stdout",
     "output_type": "stream",
     "text": [
      "Such was the end, Echecrates, of our friend; concerning whom I may\n",
      "truly say, that of all the men of his time whom I have known, he was the\n",
      "wisest and justest and best.\n"
     ]
    }
   ],
   "source": [
    "print(load_plato('Phaedo')[-1])\n"
   ]
  },
  {
   "cell_type": "code",
   "execution_count": 4,
   "id": "fd51b03c",
   "metadata": {},
   "outputs": [
    {
     "name": "stdout",
     "output_type": "stream",
     "text": [
      "SOCRATES:  Then will they not say:  'You, Socrates, are breaking the\n",
      "covenants and agreements which you made with us at your leisure, not in any\n",
      "haste or under any compulsion or deception, but after you have had seventy\n",
      "years to think of them, during which time you were at liberty to leave the\n",
      "city, if we were not to your mind, or if our covenants appeared to you to\n",
      "be unfair.  You had your choice, and might have gone either to Lacedaemon\n",
      "or Crete, both which states are often praised by you for their good\n",
      "government, or to some other Hellenic or foreign state.  Whereas you, above\n",
      "all other Athenians, seemed to be so fond of the state, or, in other words,\n",
      "of us her laws (and who would care about a state which has no laws?), that\n",
      "you never stirred out of her; the halt, the blind, the maimed, were not\n",
      "more stationary in her than you were.  And now you run away and forsake\n",
      "your agreements.  Not so, Socrates, if you will take our advice; do not\n",
      "make yourself ridiculous by escaping out of the city.\n",
      "'For just consider, if you transgress and err in this sort of way, what\n",
      "good will you do either to yourself or to your friends?  That your friends\n",
      "will be driven into exile and deprived of citizenship, or will lose their\n",
      "property, is tolerably certain; and you yourself, if you fly to one of the\n",
      "neighbouring cities, as, for example, Thebes or Megara, both of which are\n",
      "well governed, will come to them as an enemy, Socrates, and their\n",
      "government will be against you, and all patriotic citizens will cast an\n",
      "evil eye upon you as a subverter of the laws, and you will confirm in the\n",
      "minds of the judges the justice of their own condemnation of you.  For he\n",
      "who is a corrupter of the laws is more than likely to be a corrupter of the\n",
      "young and foolish portion of mankind.  Will you then flee from well-ordered\n",
      "cities and virtuous men? and is existence worth having on these terms?  Or\n",
      "will you go to them without shame, and talk to them, Socrates?  And what\n",
      "will you say to them?  What you say here about virtue and justice and\n",
      "institutions and laws being the best things among men?  Would that be\n",
      "decent of you?  Surely not.  But if you go away from well-governed states\n",
      "to Crito's friends in Thessaly, where there is great disorder and licence,\n",
      "they will be charmed to hear the tale of your escape from prison, set off\n",
      "with ludicrous particulars of the manner in which you were wrapped in a\n",
      "goatskin or some other disguise, and metamorphosed as the manner is of\n",
      "runaways; but will there be no one to remind you that in your old age you\n",
      "were not ashamed to violate the most sacred laws from a miserable desire of\n",
      "a little more life?  Perhaps not, if you keep them in a good temper; but if\n",
      "they are out of temper you will hear many degrading things; you will live,\n",
      "but how?--as the flatterer of all men, and the servant of all men; and\n",
      "doing what?--eating and drinking in Thessaly, having gone abroad in order\n",
      "that you may get a dinner.  And where will be your fine sentiments about\n",
      "justice and virtue?  Say that you wish to live for the sake of your\n",
      "children--you want to bring them up and educate them--will you take them\n",
      "into Thessaly and deprive them of Athenian citizenship?  Is this the\n",
      "benefit which you will confer upon them?  Or are you under the impression\n",
      "that they will be better cared for and educated here if you are still\n",
      "alive, although absent from them; for your friends will take care of them?\n",
      "Do you fancy that if you are an inhabitant of Thessaly they will take care\n",
      "of them, and if you are an inhabitant of the other world that they will not\n",
      "take care of them?  Nay; but if they who call themselves friends are good\n",
      "for anything, they will--to be sure they will.\n",
      "'Listen, then, Socrates, to us who have brought you up.  Think not of life\n",
      "and children first, and of justice afterwards, but of justice first, that\n",
      "you may be justified before the princes of the world below.  For neither\n",
      "will you nor any that belong to you be happier or holier or juster in this\n",
      "life, or happier in another, if you do as Crito bids.  Now you depart in\n",
      "innocence, a sufferer and not a doer of evil; a victim, not of the laws,\n",
      "but of men.  But if you go forth, returning evil for evil, and injury for\n",
      "injury, breaking the covenants and agreements which you have made with us,\n",
      "and wronging those whom you ought least of all to wrong, that is to say,\n",
      "yourself, your friends, your country, and us, we shall be angry with you\n",
      "while you live, and our brethren, the laws in the world below, will receive\n",
      "you as an enemy; for they will know that you have done your best to destroy\n",
      "us.  Listen, then, to us and not to Crito.'\n",
      "This, dear Crito, is the voice which I seem to hear murmuring in my ears,\n",
      "like the sound of the flute in the ears of the mystic; that voice, I say,\n",
      "is humming in my ears, and prevents me from hearing any other.  And I know\n",
      "that anything more which you may say will be vain.  Yet speak, if you have\n",
      "anything to say.\n",
      "CRITO:  I have nothing to say, Socrates.\n",
      "SOCRATES:  Leave me then, Crito, to fulfil the will of God, and to follow\n",
      "whither he leads.\n"
     ]
    }
   ],
   "source": [
    "print(load_plato('Crito')[-1])\n"
   ]
  },
  {
   "cell_type": "code",
   "execution_count": 5,
   "id": "bcbdda62",
   "metadata": {},
   "outputs": [
    {
     "name": "stdout",
     "output_type": "stream",
     "text": [
      "EUTHYPHRO: Why have you left the Lyceum, Socrates? and what are you\n",
      "doing in the Porch of the King Archon? Surely you cannot be concerned in\n",
      "a suit before the King, like myself?\n",
      "SOCRATES: Not in a suit, Euthyphro; impeachment is the word which the\n",
      "Athenians use.\n"
     ]
    }
   ],
   "source": [
    "print(load_plato('Euthyphro')[0])\n"
   ]
  },
  {
   "cell_type": "code",
   "execution_count": null,
   "id": "40e73255",
   "metadata": {},
   "outputs": [],
   "source": []
  }
 ],
 "metadata": {
  "kernelspec": {
   "display_name": ".venv",
   "language": "python",
   "name": "python3"
  },
  "language_info": {
   "codemirror_mode": {
    "name": "ipython",
    "version": 3
   },
   "file_extension": ".py",
   "mimetype": "text/x-python",
   "name": "python",
   "nbconvert_exporter": "python",
   "pygments_lexer": "ipython3",
   "version": "3.12.9"
  }
 },
 "nbformat": 4,
 "nbformat_minor": 5
}
