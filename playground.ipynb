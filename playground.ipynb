{
 "cells": [
  {
   "cell_type": "code",
   "execution_count": null,
   "id": "9fa1202a",
   "metadata": {},
   "outputs": [],
   "source": [
    "\n",
    "import base64\n",
    "\n",
    "import os\n",
    "\n",
    "import openai\n",
    "openai.api_key = os.environ['OPENAI_API_KEY']\n",
    "client = openai.OpenAI()\n",
    "\n",
    "response = client.images.edit(\n",
    "  image=open(\"socrates.png\", \"rb\"),\n",
    "  mask =open(\"mask.png\",      \"rb\"),\n",
    "  prompt=\"A sunny Ancient Greek marketplace, in a storybook style\",\n",
    "  n=1,\n",
    "  size=\"1024x1024\",\n",
    "  model=\"dall-e-2\",\n",
    "  response_format=\"b64_json\",\n",
    ")\n",
    "\n",
    "image_base64 = response.data[0].b64_json\n",
    "image_bytes = base64.b64decode(image_base64)\n",
    "\n",
    "# Save the image to a file\n",
    "with open(\"character-test.png\", \"wb\") as f:\n",
    "    f.write(image_bytes)\n"
   ]
  }
 ],
 "metadata": {
  "language_info": {
   "name": "python"
  }
 },
 "nbformat": 4,
 "nbformat_minor": 5
}
