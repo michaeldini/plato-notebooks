{
 "cells": [
  {
   "cell_type": "markdown",
   "id": "9d9a2851",
   "metadata": {},
   "source": [
    "# Plato Texts to pkl files \n",
    ".pkl = `list[str]`\n",
    "\n",
    "Run this notebook to convert Plato's texts to a list of strings. Each element in the list is intended to be put in a notebook cell. The texts were downloaded from guttenberg.org and slightly edited to make processing them easier (ie remove header/footer or newline, etc).\n"
   ]
  },
  {
   "cell_type": "code",
   "execution_count": 1,
   "id": "3d31d247",
   "metadata": {},
   "outputs": [],
   "source": [
    "from pathlib import Path\n",
    "import dill\n",
    "from utils import create_dialogue_entry, TITLES\n",
    "\n",
    "Path(\"pickles\").mkdir(exist_ok=True)\n"
   ]
  },
  {
   "cell_type": "markdown",
   "id": "d4d5d854",
   "metadata": {},
   "source": [
    "## Euthyphro"
   ]
  },
  {
   "cell_type": "code",
   "execution_count": null,
   "id": "876c9a12",
   "metadata": {},
   "outputs": [],
   "source": [
    "# Load the content of the file\n",
    "with open(TITLES[\"Euthyphro\"][\"text\"], \"r\", encoding=\"utf-8-sig\") as file:\n",
    "    text_content = file.read().split(\"\\n\\n\")\n",
    "\n",
    "    # Check if the whole text is composed of EUTHYPHRO-SOCRATES pairs\n",
    "    for i in range(len(text_content) - 1):\n",
    "        if i % 2 == 0:\n",
    "            if not text_content[i].startswith(\"EUTHYPHRO:\"):\n",
    "                raise ValueError(f\"Text at index {i} is not an EUTHYPHRO-SOCRATES pair. {text_content[i]}\")\n",
    "        else:\n",
    "            if not text_content[i].startswith(\"SOCRATES:\"):\n",
    "                raise ValueError(f\"Text at index {i} is not an EUTHYPHRO-SOCRATES pair. {text_content[i]}\")\n",
    "\n",
    "# the check above showed the text is composed of EUTHYPHRO-SOCRATES pairs\n",
    "# which means we can simply iterate over the text_content\n",
    "dialogue_pairs = []\n",
    "for i, text in enumerate(text_content):\n",
    "    if text.startswith(\"EUTHYPHRO:\"):\n",
    "        dialogue_pairs.append(\n",
    "            create_dialogue_entry(\n",
    "                text,\n",
    "                text_content[i + 1] if i + 1 < len(text_content) else None,\n",
    "            )\n",
    "        )\n",
    "\n",
    "\n",
    "# Save the dialogue pairs to a binary file using dill\n",
    "with open(TITLES[\"Euthyphro\"][\"pickle\"], \"wb\") as file:\n",
    "    dill.dump(dialogue_pairs, file)\n"
   ]
  },
  {
   "cell_type": "markdown",
   "id": "8e48e38d",
   "metadata": {},
   "source": [
    "## Apology\n"
   ]
  },
  {
   "cell_type": "code",
   "execution_count": null,
   "id": "88f13ea1",
   "metadata": {},
   "outputs": [],
   "source": [
    "# Load the content of the file\n",
    "with open(TITLES[\"Apology\"][\"text\"], \"r\", encoding=\"utf-8-sig\") as file:\n",
    "    text_content = file.read().strip().split(\"\\n\\n\")\n",
    "    \n",
    "    # no checking needed for Apology since the whole text is iterated over and added to the dictionary, so nothing is skipped.\n",
    "\n",
    "# Save the paragraphs to a binary file using dill\n",
    "with open(TITLES[\"Apology\"][\"pickle\"], \"wb\") as file:\n",
    "    dill.dump(text_content, file)\n"
   ]
  },
  {
   "cell_type": "markdown",
   "id": "d16e1103",
   "metadata": {},
   "source": [
    "## Crito\n"
   ]
  },
  {
   "cell_type": "code",
   "execution_count": null,
   "id": "602cbea0",
   "metadata": {},
   "outputs": [],
   "source": [
    "with open(TITLES[\"Crito\"][\"text\"], \"r\", encoding=\"utf-8-sig\") as file:\n",
    "    text_content = file.read().strip().split(\"\\n\\n\")\n",
    "    \n",
    "    # Check if the whole text is composed of SOCRATES-CRITO pairs\n",
    "    for i in range(len(text_content) - 1):\n",
    "        if i % 2 == 0:\n",
    "            if not text_content[i].startswith(\"SOCRATES:\"):\n",
    "                raise ValueError(f\"Text at index {i} is not a SOCRATES-CRITO pair. {text_content[i]}\")\n",
    "        else:\n",
    "            if not text_content[i].startswith(\"CRITO:\"):\n",
    "                raise ValueError(f\"Text at index {i} is not a SOCRATES-CRITO pair. {text_content[i]}\")\n",
    "# the check above showed the text is composed of SOCRATES-CRITO pairs\n",
    "# which means we can simply iterate over the text_content\n",
    "dialogue_pairs = []\n",
    "for i, text in enumerate(text_content):\n",
    "    if text.startswith(\"SOCRATES:\"):\n",
    "        dialogue_pairs.append(\n",
    "            create_dialogue_entry(\n",
    "                text,\n",
    "                text_content[i + 1] if i + 1 < len(text_content) else None,\n",
    "            )\n",
    "        )\n",
    "        \n",
    "\n",
    "# Save the dialogue pairs to a binary file using dill\n",
    "with open(TITLES[\"Crito\"][\"pickle\"], \"wb\") as file:\n",
    "    dill.dump(dialogue_pairs, file)\n"
   ]
  },
  {
   "cell_type": "markdown",
   "id": "3ede12d2",
   "metadata": {},
   "source": [
    "## Phaedo"
   ]
  },
  {
   "cell_type": "code",
   "execution_count": null,
   "id": "d4b57cf8",
   "metadata": {},
   "outputs": [],
   "source": [
    "with open(TITLES[\"Phaedo\"][\"text\"], \"r\", encoding=\"utf-8-sig\") as file:\n",
    "    text_content = file.read().strip().split(\"\\n\\n\")\n",
    "    \n",
    "    # Check if the whole text is composed of ECHECRATES-PHAEDO pairs\n",
    "    for i, line in enumerate(text_content):\n",
    "        if line.startswith('ESCHECRATES:'):\n",
    "            if not text_content[i + 1].startswith('PHAEDO:'):\n",
    "                raise ValueError(f\"Text at index {i} is not a ECHECRATES-PHAEDO pair. {text_content[i]}\")\n",
    "\n",
    "# Extract PHAEDO-ECHECRATES pairs and handle the middle section from Phaedo\n",
    "dialogue_pairs = []\n",
    "index = 1\n",
    "\n",
    "for i, text in enumerate(text_content):\n",
    "    \n",
    "    if text.startswith(\"ECHECRATES:\") and (i + 1 < len(text_content) and text_content[i + 1].startswith(\"PHAEDO:\")):\n",
    "        dialogue_pairs.append(\n",
    "            create_dialogue_entry(\n",
    "                text,\n",
    "                text_content[i + 1] if i + 1 < len(text_content) else None,\n",
    "            )\n",
    "        )\n",
    "        \n",
    "    elif text.startswith(\"PHAEDO:\"):\n",
    "        # this line is captured in the previous index\n",
    "        pass\n",
    "    \n",
    "    else:\n",
    "        # if the line is more than 140 characters, add it is an its own index\n",
    "        if len(text) > 140:\n",
    "            dialogue_pairs.append(text)\n",
    "            \n",
    "        # if the line is less than 140 characters, add it to the previous index\n",
    "        elif len(text) < 140 and dialogue_pairs:\n",
    "            dialogue_pairs[-1] += \" \" + text\n",
    "            \n",
    "        else:\n",
    "            raise ValueError(f\"Text at index {i} is not a ECHECRATES-PHAEDO pair. {text_content[i]}\")\n",
    "# Save the dialogue pairs to a binary file using dill\n",
    "with open(TITLES[\"Phaedo\"][\"pickle\"], \"wb\") as file:\n",
    "    dill.dump(dialogue_pairs, file)\n"
   ]
  },
  {
   "cell_type": "code",
   "execution_count": null,
   "id": "612dade6",
   "metadata": {},
   "outputs": [],
   "source": []
  }
 ],
 "metadata": {
  "kernelspec": {
   "display_name": ".venv",
   "language": "python",
   "name": "python3"
  },
  "language_info": {
   "codemirror_mode": {
    "name": "ipython",
    "version": 3
   },
   "file_extension": ".py",
   "mimetype": "text/x-python",
   "name": "python",
   "nbconvert_exporter": "python",
   "pygments_lexer": "ipython3",
   "version": "3.12.9"
  }
 },
 "nbformat": 4,
 "nbformat_minor": 5
}
